{
 "cells": [
  {
   "cell_type": "code",
   "execution_count": 2,
   "id": "bee0dce1-3720-46ab-ba8a-0650d4639d13",
   "metadata": {
    "tags": []
   },
   "outputs": [],
   "source": [
    "import pandas as pd\n",
    "import matplotlib.pyplot as plt\n",
    "from matplotlib import style\n",
    "import seaborn as sns\n",
    "from sklearn.model_selection import train_test_split\n",
    "from sklearn.linear_model import LinearRegression\n",
    "from sklearn.preprocessing import StandardScaler\n",
    "from sklearn import metrics"
   ]
  },
  {
   "cell_type": "code",
   "execution_count": 3,
   "id": "7da9da54-e5cb-4449-9fcc-7864e158aef0",
   "metadata": {
    "tags": []
   },
   "outputs": [
    {
     "name": "stdout",
     "output_type": "stream",
     "text": [
      "  Car_Name  Year  Selling_Price  Present_Price  Kms_Driven Fuel_Type  \\\n",
      "0     ritz  2014           3.35           5.59       27000    Petrol   \n",
      "1      sx4  2013           4.75           9.54       43000    Diesel   \n",
      "2     ciaz  2017           7.25           9.85        6900    Petrol   \n",
      "3  wagon r  2011           2.85           4.15        5200    Petrol   \n",
      "4    swift  2014           4.60           6.87       42450    Diesel   \n",
      "\n",
      "  Seller_Type Transmission  Owner  \n",
      "0      Dealer       Manual      0  \n",
      "1      Dealer       Manual      0  \n",
      "2      Dealer       Manual      0  \n",
      "3      Dealer       Manual      0  \n",
      "4      Dealer       Manual      0  \n",
      "Index(['Car_Name', 'Year', 'Selling_Price', 'Present_Price', 'Kms_Driven',\n",
      "       'Fuel_Type', 'Seller_Type', 'Transmission', 'Owner'],\n",
      "      dtype='object')\n"
     ]
    }
   ],
   "source": [
    "df = pd.read_csv('car data.csv')\n",
    "\n",
    "print(df.head())\n",
    "print(df.columns)\n"
   ]
  },
  {
   "cell_type": "code",
   "execution_count": null,
   "id": "07830fe1-ce57-4b43-b3aa-d919c10b155c",
   "metadata": {
    "tags": []
   },
   "outputs": [],
   "source": [
    "fuel_type = df['Fuel_Type']\n",
    "tranmission = df['Transmission']\n",
    "sellingPrice = df['Selling_Price']\n",
    "owner = df['Seller_Type']"
   ]
  },
  {
   "cell_type": "code",
   "execution_count": null,
   "id": "911731ad-73dc-4033-891f-f4af81538fb1",
   "metadata": {
    "tags": []
   },
   "outputs": [],
   "source": [
    "# Column Visualization\n",
    "style.use('ggplot')\n",
    "fig = plt.figure(figsize=(15,5))\n",
    "fig.suptitle('Visualzing categorical data columns')\n",
    "\n",
    "plt.subplot(1,3,1)\n",
    "plt.bar(fuel_type, sellingPrice, color= 'royalblue')\n",
    "plt.xlabel('Fuel type')\n",
    "plt.ylabel('Selling Price')\n",
    "\n",
    "plt.subplot(1,3,2) \n",
    "plt.bar(owner, sellingPrice, color='red')\n",
    "plt.xlabel('Seller Type')\n",
    "\n",
    "plt.subplot(1,3,3)\n",
    "plt.bar(tranmission, sellingPrice, color='purple')\n",
    "plt.xlabel('Tranmission type')\n",
    "\n",
    "plt.show()"
   ]
  },
  {
   "cell_type": "code",
   "execution_count": null,
   "id": "384d052f-3fda-4047-b846-3c65237d124d",
   "metadata": {
    "tags": []
   },
   "outputs": [],
   "source": [
    "fig, axes = plt.subplots(1,3, figsize=(15,5), sharey=True)\n",
    "fig.suptitle('Visualizing Categorail Columns')\n",
    "sns.barplot(x=fuel_type, y=sellingPrice, ax=axes[0])\n",
    "sns.barplot(x=owner, y=sellingPrice, ax=axes[1])\n",
    "sns.barplot(x=tranmission, y=sellingPrice, ax=axes[2])"
   ]
  },
  {
   "cell_type": "code",
   "execution_count": null,
   "id": "dea26372-383d-42b7-9bd9-6dd8eb5a97d8",
   "metadata": {
    "tags": []
   },
   "outputs": [],
   "source": [
    "df = pd.get_dummies(df, columns=['Seller_Type', 'Transmission', 'Fuel_Type'], drop_first=True)\n",
    "print(df.head())"
   ]
  },
  {
   "cell_type": "code",
   "execution_count": null,
   "id": "180c7f82-3039-4912-b1c7-c76030a62ee3",
   "metadata": {
    "tags": []
   },
   "outputs": [],
   "source": [
    "plt.figure(figsize=(10,7))\n",
    "sns.heatmap(df.corr(), annot=True)\n",
    "plt.title(\"Correlation between Columns\")\n",
    "plt.show()"
   ]
  },
  {
   "cell_type": "code",
   "execution_count": null,
   "id": "4d9a40a8-4d55-4761-8780-b6627d100bd6",
   "metadata": {
    "tags": []
   },
   "outputs": [],
   "source": [
    "fig= plt.figure(figsize=(7,5))\n",
    "plt.title('Correlation between present price and selling price')\n",
    "sns.regplot(x='Present_Price', y='Selling_Price', data=df)"
   ]
  },
  {
   "cell_type": "code",
   "execution_count": null,
   "id": "59ee9198-2f77-4c62-84b2-bb825aa1d8cd",
   "metadata": {
    "tags": []
   },
   "outputs": [],
   "source": [
    "X = df.drop(['Car_Name', 'Selling_Price'], axis=1)\n",
    "y = df['Selling_Price']"
   ]
  },
  {
   "cell_type": "code",
   "execution_count": null,
   "id": "73aa7c40-8cb0-415b-bcb4-548ed59588e9",
   "metadata": {
    "tags": []
   },
   "outputs": [],
   "source": [
    "print(f\"The shape of X: {X.shape}\")\n",
    "print(f\"The shape of y: {y.shape}\")"
   ]
  },
  {
   "cell_type": "code",
   "execution_count": null,
   "id": "a39f8d83-eea8-4fb1-acf7-a40203ad45da",
   "metadata": {
    "tags": []
   },
   "outputs": [],
   "source": [
    "X_train, X_test, y_train, y_test = train_test_split(X,y, test_size=0.3, random_state=42)"
   ]
  },
  {
   "cell_type": "code",
   "execution_count": null,
   "id": "cb394cff-c677-4e1a-86af-25838af54049",
   "metadata": {
    "tags": []
   },
   "outputs": [],
   "source": [
    "print(f\"The shape of X_train: {X_train.shape}\")\n",
    "print(f\"The shape of X_test: {X_test.shape}\")\n",
    "print(f\"The shape of y_train: {y_train.shape}\")\n",
    "print(f\"The shape of y_test: {y_test.shape}\")"
   ]
  },
  {
   "cell_type": "raw",
   "id": "d62c5513-3858-4f86-80bb-1f0cd6afdef8",
   "metadata": {},
   "source": [
    "scaler = StandardScaler()\n",
    "X_train = scaler.fit_transform(X_train)\n",
    "X_test = scaler.fit_transform(X_test)"
   ]
  },
  {
   "cell_type": "code",
   "execution_count": null,
   "id": "2d25898f-04ed-422d-8fdb-76c183b631ad",
   "metadata": {
    "tags": []
   },
   "outputs": [],
   "source": [
    "model = LinearRegression()"
   ]
  },
  {
   "cell_type": "code",
   "execution_count": null,
   "id": "57c88ab1-d195-4e48-8d84-42ea186de165",
   "metadata": {
    "tags": []
   },
   "outputs": [],
   "source": [
    "model.fit(X_train, y_train)"
   ]
  },
  {
   "cell_type": "code",
   "execution_count": 56,
   "id": "8708827a-3ed8-48f4-89d5-01a688d25f6d",
   "metadata": {
    "tags": []
   },
   "outputs": [],
   "source": [
    "pred = model.predict(X_test)"
   ]
  },
  {
   "cell_type": "code",
   "execution_count": 59,
   "id": "33225269-10ba-4317-a4b6-512fe28d23f4",
   "metadata": {
    "tags": []
   },
   "outputs": [],
   "source": [
    "from sklearn.metrics import mean_absolute_error, mean_squared_error, r2_score"
   ]
  },
  {
   "cell_type": "code",
   "execution_count": 60,
   "id": "749ed506-6783-45c8-88f7-e845e6b8a837",
   "metadata": {
    "tags": []
   },
   "outputs": [
    {
     "name": "stdout",
     "output_type": "stream",
     "text": [
      "MAE:  1.2698356709059242\n",
      "MSE:  3.541748500948457\n",
      "R2_Score:  0.8296744278342878\n"
     ]
    }
   ],
   "source": [
    "print(\"MAE: \", (metrics.mean_absolute_error(pred, y_test)))\n",
    "print(\"MSE: \", (metrics.mean_squared_error(pred, y_test)))\n",
    "print(\"R2_Score: \", (metrics.r2_score(pred, y_test)))"
   ]
  },
  {
   "cell_type": "code",
   "execution_count": 61,
   "id": "2cf3368c-3153-4d1e-b3ef-0631f9db4386",
   "metadata": {
    "tags": []
   },
   "outputs": [
    {
     "data": {
      "image/png": "[encoded data removed]",
      "text/plain": [
       "<Figure size 640x480 with 1 Axes>"
      ]
     },
     "metadata": {},
     "output_type": "display_data"
    }
   ],
   "source": [
    "sns.regplot(x=pred, y=y_test)\n",
    "plt.xlabel('Predicted Price')\n",
    "plt.ylabel('Actual Price')\n",
    "plt.title('Actual vs Predicted Price')\n",
    "plt.show()"
   ]
  },
  {
   "cell_type": "code",
   "execution_count": null,
   "id": "a81dec24-74f0-4a9d-92ad-f2fa9a926104",
   "metadata": {},
   "outputs": [],
   "source": []
  }
 ],
 "metadata": {
  "kernelspec": {
   "display_name": "Python 3 (ipykernel)",
   "language": "python",
   "name": "python3"
  },
  "language_info": {
   "codemirror_mode": {
    "name": "ipython",
    "version": 3
   },
   "file_extension": ".py",
   "mimetype": "text/x-python",
   "name": "python",
   "nbconvert_exporter": "python",
   "pygments_lexer": "ipython3",
   "version": "3.10.6"
  }
 },
 "nbformat": 4,
 "nbformat_minor": 5
}
